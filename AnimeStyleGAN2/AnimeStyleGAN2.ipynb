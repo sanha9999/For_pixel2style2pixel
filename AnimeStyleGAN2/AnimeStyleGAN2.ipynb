{
 "cells": [
  {
   "cell_type": "code",
   "execution_count": 1,
   "id": "2d286a67",
   "metadata": {},
   "outputs": [],
   "source": [
    "import os\n",
    "import sys\n",
    "\n",
    "import numpy as np\n",
    "import torch\n",
    "import torch.nn as nn\n",
    "import torch.nn.parallel\n",
    "import torch.backends.cudnn as cudnn\n",
    "import torch.optim as optim\n",
    "import torch.utils.data\n",
    "import torchvision.datasets as dset\n",
    "import torchvision.transforms as transforms\n",
    "import torchvision.utils as vutils\n",
    "from torch.utils.data import DataLoader, Dataset\n",
    "import albumentations\n",
    "import albumentations.pytorch\n",
    "import cv2\n",
    "import matplotlib.pyplot as plt"
   ]
  },
  {
   "cell_type": "code",
   "execution_count": 2,
   "id": "05c67993",
   "metadata": {},
   "outputs": [],
   "source": [
    "np.random.seed(777)\n",
    "torch.cuda.manual_seed(777)\n",
    "device = torch.device('cuda')"
   ]
  },
  {
   "cell_type": "code",
   "execution_count": 3,
   "id": "a211e76e",
   "metadata": {},
   "outputs": [],
   "source": [
    "class AnimeDataset(Dataset):\n",
    "    def __init__(self, transform = None):\n",
    "        super().__init__()\n",
    "        \n",
    "        self.img_dir = \"/home/temp_1/kangsanha/AnimeGan/For_pixel2style2pixel/AnimeGan/data/\"\n",
    "        self.filenames = os.listdir(self.img_dir)\n",
    "\n",
    "        self.transform = transform\n",
    "\n",
    "    def __getitem__(self, index):\n",
    "        img_path = os.path.join(self.img_dir, self.filenames[index])\n",
    "        img = cv2.imread(img_path)\n",
    "        img = cv2.cvtColor(img, cv2.COLOR_BGR2RGB) # BGR -> RGB\n",
    "        \n",
    "        \n",
    "        if img.dtype == np.uint8:\n",
    "            img = img / 255.0\n",
    "        \n",
    "        if self.transform:\n",
    "            img_transform = self.transform(image=img)\n",
    "            img = img_transform['image']\n",
    "            \n",
    "       \n",
    "        return img\n",
    "        \n",
    "\n",
    "    def __len__(self):\n",
    "        \n",
    "        return len(self.filenames)"
   ]
  },
  {
   "cell_type": "code",
   "execution_count": null,
   "id": "0d1c8ca4",
   "metadata": {},
   "outputs": [],
   "source": [
    "class Generator(nn.Module):\n",
    "    def __init__(self, latent_dim, input_channels, filters, upsample = True, upsample_rgb = True,\n",
    "                rgba = False):\n",
    "        self.upsample = nn.Upsample(scale_factor=2, mode='bilinear', align_corners=False) if upsample else None\n",
    "        \n",
    "        self.to_style1 = nn.Linear(latent_dim, input_channels)\n",
    "        self.to_noise1 = nn.Linear(1, filters)\n",
    "        self.conv1 = Conv2DMod(input_channels, filters, 3)\n",
    "        \n",
    "        self.to_style2 = nn.Linear(latent_dim, filters)\n",
    "        self.to_noise2 = nn.Linear(1, filters)\n",
    "        self.conv2 = Conv2DMod(filters, filters, 3)\n",
    "\n",
    "        self.activation = leaky_relu()\n",
    "        self.to_rgb = RGBBlock(latent_dim, filters, upsample_rgb, rgba)"
   ]
  }
 ],
 "metadata": {
  "kernelspec": {
   "display_name": "Python 3 (ipykernel)",
   "language": "python",
   "name": "python3"
  },
  "language_info": {
   "codemirror_mode": {
    "name": "ipython",
    "version": 3
   },
   "file_extension": ".py",
   "mimetype": "text/x-python",
   "name": "python",
   "nbconvert_exporter": "python",
   "pygments_lexer": "ipython3",
   "version": "3.8.0"
  }
 },
 "nbformat": 4,
 "nbformat_minor": 5
}
